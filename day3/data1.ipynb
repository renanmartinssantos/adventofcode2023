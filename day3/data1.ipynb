{
 "cells": [
  {
   "cell_type": "code",
   "execution_count": 10,
   "metadata": {},
   "outputs": [],
   "source": [
    "with open('test.txt') as f:\n",
    "    Lines = f.read()\n"
   ]
  },
  {
   "cell_type": "code",
   "execution_count": 15,
   "metadata": {},
   "outputs": [],
   "source": [
    "numbers = ['0','1', '2', '3','4','5','6','7','8','9']\n",
    "symbols = ['@', '$', '!','&','%','*', '+','-','/','=']\n"
   ]
  },
  {
   "cell_type": "code",
   "execution_count": 4,
   "metadata": {},
   "outputs": [],
   "source": [
    "def verifyIsPossible(Lines, nl, posIn, posOut):\n",
    "     if(posIn - 1 < 0):\n",
    "          posIn = 0\n",
    "          \n",
    "     if nl == 0:\n",
    "          prevLine = False\n",
    "          nextLine = nl + 1\n",
    "     elif nl == len(Lines) - 1:\n",
    "          prevLine = nl -1   \n",
    "          nextLine = False\n",
    "     else:\n",
    "          prevLine = nl - 1\n",
    "          nextLine = nl + 1\n",
    "          \n",
    "     if Lines[prevLine][posIn -1: posIn + 1] in symbols:\n",
    "          return True\n",
    "          \n",
    "     elif Lines[nextLine][posIn -1: posIn + 1] in symbols:\n",
    "          return True\n",
    "     \n",
    "     elif Lines[nl][posIn -1: posIn + 1] in symbols:\n",
    "          return True\n",
    "         \n",
    "         \n",
    "                    \n",
    "     return False"
   ]
  },
  {
   "cell_type": "code",
   "execution_count": 21,
   "metadata": {},
   "outputs": [],
   "source": [
    "concat = []\n",
    "count = 0\n",
    "countEverything = 0\n",
    "with open('test.txt') as f:\n",
    "    Lines = f.read()\n",
    "Lines = Lines.split(\"\\n\")\n",
    "for nl, line in enumerate(Lines):\n",
    "    posIn = 0\n",
    "    posOut = 0\n",
    "    concatLetter = \"\"\n",
    "    first = False\n",
    "    for i, charac in enumerate(line):\n",
    "        if(posOut):\n",
    "            first = False\n",
    "            posIn = 0\n",
    "            posOut = 0\n",
    "        let = line[i:i+1]\n",
    "        if(posOut == 0):\n",
    "            if(let in numbers):\n",
    "                if(first == False):\n",
    "                    posIn = i\n",
    "                    first = True\n",
    "                concatLetter = concatLetter + let\n",
    "            \n",
    "            if(let not in numbers):\n",
    "                posOut = i - 1\n",
    "        if(posOut):\n",
    "            verifyNumber = verifyIsPossible(Lines,nl, posIn, posOut)\n",
    "            if(verifyNumber):\n",
    "                countEverything += int(concatLetter)\n",
    "            \n",
    "              \n",
    "print(countEverything)                \n",
    "        \n",
    "        \n",
    "        "
   ]
  }
 ],
 "metadata": {
  "kernelspec": {
   "display_name": "Python 3",
   "language": "python",
   "name": "python3"
  },
  "language_info": {
   "codemirror_mode": {
    "name": "ipython",
    "version": 3
   },
   "file_extension": ".py",
   "mimetype": "text/x-python",
   "name": "python",
   "nbconvert_exporter": "python",
   "pygments_lexer": "ipython3",
   "version": "3.12.0"
  }
 },
 "nbformat": 4,
 "nbformat_minor": 2
}
