{
 "cells": [
  {
   "cell_type": "code",
   "execution_count": 1,
   "metadata": {},
   "outputs": [],
   "source": [
    "with open('data1.txt') as f:\n",
    "    Lines = f.readlines()\n"
   ]
  },
  {
   "cell_type": "code",
   "execution_count": null,
   "metadata": {},
   "outputs": [],
   "source": [
    "num = 0\n",
    "numSum = 0\n",
    "\n",
    "for line in Lines:\n",
    "    \n",
    "    line = line.split(\":\")\n",
    "    gameNumber = line[0].split(\" \")[1]\n",
    "    line = line[1][:-1]\n",
    "    line = line.split(\",\")\n",
    "\n",
    "    gQtt = 0\n",
    "    rQtt = 0\n",
    "    bQtt = 0\n",
    "    isPossible = False\n",
    "    for i, lin in enumerate(line):\n",
    "        lastLineId = i + 1  \n",
    "        sizeLine = len(line)\n",
    "        resLin = lin[1:]\n",
    "        resLin = resLin.split(\" \")\n",
    "        qtt = resLin[0]\n",
    "        color = resLin[1]\n",
    "        \n",
    "        if(color == \"red\"):\n",
    "            rQtt += int(qtt)\n",
    "        if(color == \"green\"):\n",
    "            gQtt += int(qtt)\n",
    "        if(color == \"blue\"):\n",
    "            bQtt += int(qtt)    \n",
    "        if(int(gameNumber) == 3):\n",
    "            print(\"number 3\")\n",
    "        if(lastLineId == sizeLine and rQtt <= 12 and gQtt <= 13 and bQtt <= 14):\n",
    "            isPossible = True\n",
    "            num += int(gameNumber)   \n",
    "            numSum += rQtt + gQtt + bQtt \n",
    "        else:\n",
    "            isPossible = False\n",
    "    \n",
    "print(num)\n",
    "        \n",
    "        \n"
   ]
  },
  {
   "cell_type": "code",
   "execution_count": 7,
   "metadata": {},
   "outputs": [
    {
     "name": "stdout",
     "output_type": "stream",
     "text": [
      "2283\n",
      "78669\n"
     ]
    }
   ],
   "source": [
    "num = 0\n",
    "numSum = 0\n",
    "score = 1\n",
    "numMult = 0\n",
    "from collections import defaultdict\n",
    "for line in Lines:\n",
    "    \n",
    "    isPossible = True\n",
    "    line = line.split(\":\")\n",
    "    game = line[1][1:-1]\n",
    "    gameNumber = line[0].split(\" \")[1]\n",
    "    plays = game.split(\";\")\n",
    "    V = defaultdict(int)\n",
    "    \n",
    "    for play in plays:\n",
    "        for round in play.split(','):\n",
    "            n,color = round.split()\n",
    "            n = int(n)\n",
    "            V[color] = max(V[color], n)\n",
    "            if int(n) > {'red': 12, 'green': 13, 'blue': 14}.get(color, 0):\n",
    "                isPossible = False\n",
    "    score = 1\n",
    "    for v in V.values():\n",
    "        score *= v\n",
    "    numMult += score\n",
    "    if isPossible:\n",
    "        num += int(gameNumber)        \n",
    "        \n",
    "print(num)    \n",
    "print(numMult)     \n",
    "    \n",
    "   \n",
    "    "
   ]
  },
  {
   "cell_type": "code",
   "execution_count": 8,
   "metadata": {},
   "outputs": [
    {
     "ename": "KeyboardInterrupt",
     "evalue": "",
     "output_type": "error",
     "traceback": [
      "\u001b[1;31m---------------------------------------------------------------------------\u001b[0m",
      "\u001b[1;31mKeyboardInterrupt\u001b[0m                         Traceback (most recent call last)",
      "\u001b[1;32mc:\\Users\\z3r0r\\OneDrive\\Documentos\\Python Scripts\\adventofcode2023\\day2\\data1.ipynb Cell 3\u001b[0m line \u001b[0;36m2\n\u001b[0;32m     <a href='vscode-notebook-cell:/c%3A/Users/z3r0r/OneDrive/Documentos/Python%20Scripts/adventofcode2023/day2/data1.ipynb#W2sZmlsZQ%3D%3D?line=20'>21</a>\u001b[0m   p2 \u001b[39m+\u001b[39m\u001b[39m=\u001b[39m score\n\u001b[0;32m     <a href='vscode-notebook-cell:/c%3A/Users/z3r0r/OneDrive/Documentos/Python%20Scripts/adventofcode2023/day2/data1.ipynb#W2sZmlsZQ%3D%3D?line=21'>22</a>\u001b[0m   \u001b[39mif\u001b[39;00m ok:\n\u001b[1;32m---> <a href='vscode-notebook-cell:/c%3A/Users/z3r0r/OneDrive/Documentos/Python%20Scripts/adventofcode2023/day2/data1.ipynb#W2sZmlsZQ%3D%3D?line=22'>23</a>\u001b[0m     p1 \u001b[39m+\u001b[39m\u001b[39m=\u001b[39m \u001b[39mint\u001b[39m(id_\u001b[39m.\u001b[39msplit()[\u001b[39m-\u001b[39m\u001b[39m1\u001b[39m])\n\u001b[0;32m     <a href='vscode-notebook-cell:/c%3A/Users/z3r0r/OneDrive/Documentos/Python%20Scripts/adventofcode2023/day2/data1.ipynb#W2sZmlsZQ%3D%3D?line=23'>24</a>\u001b[0m \u001b[39mprint\u001b[39m(p1)\n",
      "File \u001b[1;32m~\\AppData\\Roaming\\Python\\Python312\\site-packages\\debugpy\\_vendored\\pydevd\\_pydevd_bundle\\pydevd_frame.py:988\u001b[0m, in \u001b[0;36mPyDBFrame.trace_dispatch\u001b[1;34m(self, frame, event, arg)\u001b[0m\n\u001b[0;32m    986\u001b[0m \u001b[39m# if thread has a suspend flag, we suspend with a busy wait\u001b[39;00m\n\u001b[0;32m    987\u001b[0m \u001b[39mif\u001b[39;00m info\u001b[39m.\u001b[39mpydev_state \u001b[39m==\u001b[39m STATE_SUSPEND:\n\u001b[1;32m--> 988\u001b[0m     \u001b[39mself\u001b[39;49m\u001b[39m.\u001b[39;49mdo_wait_suspend(thread, frame, event, arg)\n\u001b[0;32m    989\u001b[0m     \u001b[39mreturn\u001b[39;00m \u001b[39mself\u001b[39m\u001b[39m.\u001b[39mtrace_dispatch\n\u001b[0;32m    990\u001b[0m \u001b[39melse\u001b[39;00m:\n",
      "File \u001b[1;32m~\\AppData\\Roaming\\Python\\Python312\\site-packages\\debugpy\\_vendored\\pydevd\\_pydevd_bundle\\pydevd_frame.py:165\u001b[0m, in \u001b[0;36mPyDBFrame.do_wait_suspend\u001b[1;34m(self, *args, **kwargs)\u001b[0m\n\u001b[0;32m    164\u001b[0m \u001b[39mdef\u001b[39;00m \u001b[39mdo_wait_suspend\u001b[39m(\u001b[39mself\u001b[39m, \u001b[39m*\u001b[39margs, \u001b[39m*\u001b[39m\u001b[39m*\u001b[39mkwargs):\n\u001b[1;32m--> 165\u001b[0m     \u001b[39mself\u001b[39;49m\u001b[39m.\u001b[39;49m_args[\u001b[39m0\u001b[39;49m]\u001b[39m.\u001b[39;49mdo_wait_suspend(\u001b[39m*\u001b[39;49margs, \u001b[39m*\u001b[39;49m\u001b[39m*\u001b[39;49mkwargs)\n",
      "File \u001b[1;32m~\\AppData\\Roaming\\Python\\Python312\\site-packages\\debugpy\\_vendored\\pydevd\\pydevd.py:2070\u001b[0m, in \u001b[0;36mPyDB.do_wait_suspend\u001b[1;34m(self, thread, frame, event, arg, exception_type)\u001b[0m\n\u001b[0;32m   2067\u001b[0m             from_this_thread\u001b[39m.\u001b[39mappend(frame_custom_thread_id)\n\u001b[0;32m   2069\u001b[0m     \u001b[39mwith\u001b[39;00m \u001b[39mself\u001b[39m\u001b[39m.\u001b[39m_threads_suspended_single_notification\u001b[39m.\u001b[39mnotify_thread_suspended(thread_id, thread, stop_reason):\n\u001b[1;32m-> 2070\u001b[0m         keep_suspended \u001b[39m=\u001b[39m \u001b[39mself\u001b[39;49m\u001b[39m.\u001b[39;49m_do_wait_suspend(thread, frame, event, arg, suspend_type, from_this_thread, frames_tracker)\n\u001b[0;32m   2072\u001b[0m frames_list \u001b[39m=\u001b[39m \u001b[39mNone\u001b[39;00m\n\u001b[0;32m   2074\u001b[0m \u001b[39mif\u001b[39;00m keep_suspended:\n\u001b[0;32m   2075\u001b[0m     \u001b[39m# This means that we should pause again after a set next statement.\u001b[39;00m\n",
      "File \u001b[1;32m~\\AppData\\Roaming\\Python\\Python312\\site-packages\\debugpy\\_vendored\\pydevd\\pydevd.py:2106\u001b[0m, in \u001b[0;36mPyDB._do_wait_suspend\u001b[1;34m(self, thread, frame, event, arg, suspend_type, from_this_thread, frames_tracker)\u001b[0m\n\u001b[0;32m   2103\u001b[0m         \u001b[39mself\u001b[39m\u001b[39m.\u001b[39m_call_input_hook()\n\u001b[0;32m   2105\u001b[0m     \u001b[39mself\u001b[39m\u001b[39m.\u001b[39mprocess_internal_commands()\n\u001b[1;32m-> 2106\u001b[0m     time\u001b[39m.\u001b[39;49msleep(\u001b[39m0.01\u001b[39;49m)\n\u001b[0;32m   2108\u001b[0m \u001b[39mself\u001b[39m\u001b[39m.\u001b[39mcancel_async_evaluation(get_current_thread_id(thread), \u001b[39mstr\u001b[39m(\u001b[39mid\u001b[39m(frame)))\n\u001b[0;32m   2110\u001b[0m \u001b[39m# process any stepping instructions\u001b[39;00m\n",
      "\u001b[1;31mKeyboardInterrupt\u001b[0m: "
     ]
    }
   ],
   "source": [
    "import sys\n",
    "from collections import defaultdict\n",
    "D = open(\"data1.txt\").read().strip()\n",
    "p1 = 0\n",
    "p2 = 0\n",
    "#only 12 red cubes, 13 green cubes, and 14 blue cubes?\n",
    "for line in D.split('\\n'):\n",
    "  ok = True\n",
    "  id_, line = line.split(':')\n",
    "  V = defaultdict(int)\n",
    "  for event in line.split(';'):\n",
    "    for balls in event.split(','):\n",
    "      n,color = balls.split()\n",
    "      n = int(n)\n",
    "      V[color] = max(V[color], n)\n",
    "      if int(n) > {'red': 12, 'green': 13, 'blue': 14}.get(color, 0):\n",
    "        ok = False\n",
    "  score = 1\n",
    "  for v in V.values():\n",
    "    score *= v\n",
    "  p2 += score\n",
    "  if ok:\n",
    "    p1 += int(id_.split()[-1])\n",
    "print(p1)"
   ]
  }
 ],
 "metadata": {
  "kernelspec": {
   "display_name": "Python 3",
   "language": "python",
   "name": "python3"
  },
  "language_info": {
   "codemirror_mode": {
    "name": "ipython",
    "version": 3
   },
   "file_extension": ".py",
   "mimetype": "text/x-python",
   "name": "python",
   "nbconvert_exporter": "python",
   "pygments_lexer": "ipython3",
   "version": "3.12.0"
  }
 },
 "nbformat": 4,
 "nbformat_minor": 2
}
