{
 "cells": [
  {
   "cell_type": "code",
   "execution_count": 1,
   "metadata": {},
   "outputs": [],
   "source": [
    "with open('data1.txt') as f:\n",
    "    Lines = f.readlines()\n"
   ]
  },
  {
   "cell_type": "code",
   "execution_count": 7,
   "metadata": {},
   "outputs": [
    {
     "name": "stdout",
     "output_type": "stream",
     "text": [
      "2283\n",
      "78669\n"
     ]
    }
   ],
   "source": [
    "num = 0\n",
    "numSum = 0\n",
    "score = 1\n",
    "numMult = 0\n",
    "from collections import defaultdict\n",
    "for line in Lines:\n",
    "    \n",
    "    isPossible = True\n",
    "    line = line.split(\":\")\n",
    "    game = line[1][1:-1]\n",
    "    gameNumber = line[0].split(\" \")[1]\n",
    "    plays = game.split(\";\")\n",
    "    V = defaultdict(int)\n",
    "    \n",
    "    for play in plays:\n",
    "        for round in play.split(','):\n",
    "            n,color = round.split()\n",
    "            n = int(n)\n",
    "            V[color] = max(V[color], n)\n",
    "            if int(n) > {'red': 12, 'green': 13, 'blue': 14}.get(color, 0):\n",
    "                isPossible = False\n",
    "    score = 1\n",
    "    for v in V.values():\n",
    "        score *= v\n",
    "    numMult += score\n",
    "    if isPossible:\n",
    "        num += int(gameNumber)        \n",
    "        \n",
    "print(num)    \n",
    "print(numMult)     \n",
    "    \n",
    "   \n",
    "    "
   ]
  }
 ],
 "metadata": {
  "kernelspec": {
   "display_name": "Python 3",
   "language": "python",
   "name": "python3"
  },
  "language_info": {
   "codemirror_mode": {
    "name": "ipython",
    "version": 3
   },
   "file_extension": ".py",
   "mimetype": "text/x-python",
   "name": "python",
   "nbconvert_exporter": "python",
   "pygments_lexer": "ipython3",
   "version": "3.12.0"
  }
 },
 "nbformat": 4,
 "nbformat_minor": 2
}
